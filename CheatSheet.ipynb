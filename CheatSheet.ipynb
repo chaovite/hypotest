{
 "cells": [
  {
   "cell_type": "markdown",
   "metadata": {},
   "source": [
    "# Hypothesis Test Cheat Sheet"
   ]
  },
  {
   "cell_type": "markdown",
   "metadata": {},
   "source": [
    "## One or Two samples\n",
    "\n",
    "#### Parametric tests:\n",
    "* __Z-test:__\n",
    "    * test statistic follows normal distribution\n",
    "    * standard error can also be calculated by __bootstrap__\n",
    "    * equal interval\n",
    "* __t-test:__\n",
    "    * each sample is iid normal.\n",
    "    * use sample variance to approximate population variance.\n",
    "    * use pooled variance when possible.\n",
    "    * equal interval\n",
    "    * paired test is equivalent to one sample t-test.\n",
    "\n",
    "#### Rank-based tests:\n",
    "* __Wilcoxon sign rank test__:\n",
    "    * alternative to one-sample t test\n",
    "    * test for symmetry around a center (can be non-zero)\n",
    "    * good for heavy tail sample distribution\n",
    "    * no assumptions of sample distribution.\n",
    "    * follow normal distribution asymptotically.\n",
    "    * simulation can be used.\n",
    "* __Rank sum test__:\n",
    "    * also named as Mann-Whitney U test, or Mann-Whitney-Wilcoxon test.\n",
    "    * alternative to two-sample t test.\n",
    "    * good for heavy tail sample distribution\n",
    "    * no assumptions of sample distribution.\n",
    "    * follow normal distribution asymptotically.\n",
    "    * simulation can be used.\n",
    "\n",
    "#### Non-parametric tests:\n",
    "* Permutation test:\n",
    "    * no assumptions of sample distribution.\n",
    "    * can incoporate complex test statistics when no analytical solutions exist.\n",
    "    * exploit the symmetry of null hypothesis: symmetry with respect to permutation."
   ]
  },
  {
   "cell_type": "markdown",
   "metadata": {},
   "source": [
    "## ANOVA"
   ]
  },
  {
   "cell_type": "code",
   "execution_count": null,
   "metadata": {
    "collapsed": true
   },
   "outputs": [],
   "source": []
  }
 ],
 "metadata": {
  "anaconda-cloud": {},
  "kernelspec": {
   "display_name": "Python [Root]",
   "language": "python",
   "name": "Python [Root]"
  },
  "language_info": {
   "codemirror_mode": {
    "name": "ipython",
    "version": 3
   },
   "file_extension": ".py",
   "mimetype": "text/x-python",
   "name": "python",
   "nbconvert_exporter": "python",
   "pygments_lexer": "ipython3",
   "version": "3.5.2"
  }
 },
 "nbformat": 4,
 "nbformat_minor": 2
}
