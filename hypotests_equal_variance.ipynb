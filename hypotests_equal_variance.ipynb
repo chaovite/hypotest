{
 "cells": [
  {
   "cell_type": "markdown",
   "metadata": {},
   "source": [
    "# Tests for equality of variance"
   ]
  },
  {
   "cell_type": "markdown",
   "metadata": {},
   "source": [
    "Many parametric tests involving multiple groups assume homegeneity of variance among different groups, especially in ANOVA. In this notebook, I summarize some parametric and non-parametric methods to test the equality of variance.\n",
    "\n",
    "Test one sample variance against another constant:\n",
    "* Chi-square test for variance\n",
    "* Wald test with bootstrap to estimate standard error of sample variance.\n",
    "\n",
    "Test homogeneity of variance among groups:\n",
    "* $F$-test of equality of variances\n",
    "* Hartley test\n",
    "* Bartlett's test\n",
    "* Levene test\n",
    "* permutation test\n",
    "* Cochran's C test"
   ]
  },
  {
   "cell_type": "code",
   "execution_count": 174,
   "metadata": {
    "collapsed": false
   },
   "outputs": [],
   "source": [
    "import numpy as np\n",
    "import scipy.stats as stats\n",
    "import pandas as pd\n",
    "import matplotlib.pyplot as plt\n",
    "%matplotlib inline\n",
    "plt.style.use('ggplot')\n",
    "import tests_util\n",
    "from  importlib import reload\n",
    "reload(tests_util)\n",
    "from tests_util import *"
   ]
  },
  {
   "cell_type": "markdown",
   "metadata": {},
   "source": [
    "###  Chi-Square test for the variance\n",
    "A chi-square test ( Snedecor and Cochran, 1983) can be used to test if the variance of a population is equal to a specified value. This test can be either a two-sided test or a one-sided test. This test assumes normality of the sample and use the fact following statistics:\n",
    "$T = \\sum_{i=1}^{N} (X_{i}-\\bar{X})^2/\\sigma_{0}^{2}$ follows a $\\chi^2$ distribution with $N-1$ degree of freedom. \n",
    "\n",
    "Assumption:\n",
    "* Each sample follows IID normal distribution."
   ]
  },
  {
   "cell_type": "markdown",
   "metadata": {},
   "source": [
    "#### Example, two tail chi-square test"
   ]
  },
  {
   "cell_type": "code",
   "execution_count": 57,
   "metadata": {
    "collapsed": false
   },
   "outputs": [
    {
     "name": "stdout",
     "output_type": "stream",
     "text": [
      "chi2 test statistics T: 114.18086 and P-vale 0.00000081, power = 0.97838984\n",
      "Reject null hypothesis at 95% confidence\n"
     ]
    },
    {
     "data": {
      "image/png": "[encoded data removed]",
      "text/plain": [
       "<matplotlib.figure.Figure at 0x11c3232e8>"
      ]
     },
     "metadata": {},
     "output_type": "display_data"
    }
   ],
   "source": [
    "sigma_0 = 1\n",
    "sigma   = 1.5\n",
    "N  = 50\n",
    "df = N-1\n",
    "X  = stats.norm.rvs(scale=sigma, size = N)\n",
    "plot_dignostics([X],['X'], test=None)\n",
    "T = ((X - X.mean())**2).sum()/sigma_0**2\n",
    "pvalue = (1 - stats.chi2.cdf(T, df=df))*2\n",
    "alpha =  0.05\n",
    "# rejection region:\n",
    "lo = stats.chi2.ppf(alpha/2, df)\n",
    "hi = stats.chi2.ppf(1-alpha/2, df)\n",
    "\n",
    "# power\n",
    "power = 1 + stats.chi2.cdf(lo, df, scale=sigma_0**2/sigma**2) - stats.chi2.cdf(hi, df, scale=sigma_0**2/sigma**2)\n",
    "\n",
    "test='chi2'\n",
    "print('%s test statistics T: %8.5f and P-vale %10.8f, power = %10.8f' % (test, T, pvalue, power))\n",
    "if pvalue<0.05:\n",
    "    print('Reject null hypothesis at 95% confidence')\n",
    "else:\n",
    "    print('Fail to reject null hypothesis at 95% confidence')"
   ]
  },
  {
   "cell_type": "markdown",
   "metadata": {},
   "source": [
    "### Wald test with bootstrap\n",
    "\n",
    "Sample variance $S^2$ is the __plug-in estimator__ of true variance $\\sigma^2$. As sample size is big, $S^2\\sim N(\\sigma^2, \\hat{se}^2)$, where $\\hat{se}$ is the standard error. Bootstrap is used in this case to obtain the standard error empirically."
   ]
  },
  {
   "cell_type": "code",
   "execution_count": 58,
   "metadata": {
    "collapsed": false
   },
   "outputs": [
    {
     "name": "stdout",
     "output_type": "stream",
     "text": [
      "Wald with bootstrap test statistics T:  2.31363 and P-vale 0.02068826, power = 0.23952699\n",
      "Reject null hypothesis at 95% confidence\n"
     ]
    }
   ],
   "source": [
    "batch_size = 1000\n",
    "var_batches = np.zeros((batch_size,))\n",
    "for i in range(batch_size):\n",
    "    x_sample = np.random.choice(X, N)\n",
    "    var_batches[i] = x_sample.var(ddof=1)\n",
    "se = var_batches.std(ddof=1)\n",
    "\n",
    "# wald statistic\n",
    "W  =  (X.var(ddof=1) - sigma_0**2)/se\n",
    "pvalue = (1 - stats.norm.cdf(W))*2\n",
    "\n",
    "# rejection region:\n",
    "lo = stats.norm.ppf(alpha/2)\n",
    "hi = stats.norm.ppf(1-alpha/2)\n",
    "\n",
    "power = 1 + stats.norm.cdf(lo, loc=sigma**2-sigma_0**2) - stats.norm.cdf(hi, loc=sigma**2-sigma_0**2)\n",
    "\n",
    "test = 'Wald with bootstrap'\n",
    "print('%s test statistics T: %8.5f and P-vale %10.8f, power = %10.8f' % (test, W, pvalue, power))\n",
    "if pvalue<0.05:\n",
    "    print('Reject null hypothesis at 95% confidence')\n",
    "else:\n",
    "    print('Fail to reject null hypothesis at 95% confidence')"
   ]
  },
  {
   "cell_type": "markdown",
   "metadata": {},
   "source": [
    "Bootstrap is not as powerful as chi-square test when the data is truly normaly distributed. However, bootstrap still applies when the data is not normally distributed."
   ]
  },
  {
   "cell_type": "markdown",
   "metadata": {},
   "source": [
    "### $F$-test of equality of variances \n",
    "$F$-test of equality of variances is a test for the null hypothesis that two __normal__ populations have the same variance.\n",
    "\n",
    "Let $X_1, ..., X_n$ and $Y_1, ..., Y_m$ are iid samples from two normally distributed populations. Let\n",
    "\n",
    "$S_{X}^2 = \\frac{1}{n-1}\\sum_{i=1}^{n}(X_i-\\bar{X})^2$ and $S_{Y}^2 = \\frac{1}{m-1}\\sum_{i=1}^{m}(Y_i-\\bar{Y})^2$ \n",
    "\n",
    "be the sample variances. Then the test statistic:\n",
    "$F=\\frac{S_{X}^2}{S_{Y}^2}$ has a $F$-distribution with $n-1$ and $m-1$ degree of freedom if the null hypothesis is true.\n",
    "\n",
    "This F-test is known to be extremely sensitive to non-normality, so Levene's test, Bartlett's test, or the Brown–Forsythe test are better tests for testing the equality of two variances.\n",
    "\n",
    "An related test is [Hartley's test](https://en.wikipedia.org/wiki/Hartley%27s_test), which uses $F_{max}=\\max(S_{j}^2)/\\min(S_{j}^2)$ as a test statistics. Hartley's test is also extremely sensitive to deviation from normality."
   ]
  },
  {
   "cell_type": "markdown",
   "metadata": {},
   "source": [
    "### Levene test for equality of variances\n",
    "\n",
    "This can be valided by performing [Levene's test](https://en.wikipedia.org/wiki/Levene%27s_test). When the underlying distribution is well approximated by normal distribution, [Bartlett's test](https://en.wikipedia.org/wiki/Bartlett%27s_test) can be applied. However, Levene test is more robust than Bartlett's test when assumption of normality is violated.\n",
    "\n",
    "More reference of Levene test can be found here: http://www.itl.nist.gov/div898/handbook/eda/section3/eda35a.htm."
   ]
  },
  {
   "cell_type": "markdown",
   "metadata": {},
   "source": [
    "### Permutation test\n",
    "\n",
    "We can always use permutation test, which has sample distribution assumption. Given multiple samples, permute all the samples after removing its group mean. We can compute any statistic that measures the deviation of group variances to mean variances of all the groups. For example, we can use:\n",
    "$\\sum_{i=1}^K (SS_i -\\bar{SS})^2/K-1$ where $K$ is the number of groups. Other test statistics can also be applied.\n",
    "\n",
    "Permutation exploit the symmetry of among the compared groups under null hypothesis (equal variance).\n",
    "\n",
    "#### Example of using different test:"
   ]
  },
  {
   "cell_type": "code",
   "execution_count": 134,
   "metadata": {
    "collapsed": false,
    "scrolled": false
   },
   "outputs": [
    {
     "name": "stdout",
     "output_type": "stream",
     "text": [
      "========   TEST OF EQUAL VARIANCE   =======\n",
      "f test statistics T:  1.86922 and P-vale 0.00207430\n",
      "Reject null hypothesis at 95% confidence\n",
      "========   TEST OF EQUAL VARIANCE   =======\n",
      "bartlett test statistics T: 11.39284 and P-vale 0.00335797\n",
      "Reject null hypothesis at 95% confidence\n",
      "========   TEST OF EQUAL VARIANCE   =======\n",
      "levene test statistics T:  1.54128 and P-vale 0.21581510\n",
      "Fail to reject null hypothesis at 95% confidence\n",
      "Permutation test statistics T:  0.52356 and P-vale 0.02400000\n",
      "Reject null hypothesis at 95% confidence\n"
     ]
    },
    {
     "data": {
      "image/png": "[encoded data removed]",
      "text/plain": [
       "<matplotlib.figure.Figure at 0x11fd0fac8>"
      ]
     },
     "metadata": {},
     "output_type": "display_data"
    }
   ],
   "source": [
    "# X = stats.norm.rvs(size = 100)\n",
    "# Y = stats.norm.rvs(size = 100)\n",
    "X = stats.t.rvs(df=3, size = 100)\n",
    "Y = stats.t.rvs(df=4, size = 100)\n",
    "Z = stats.t.rvs(df=5, size = 100)\n",
    "T,pvalue=homo_vars([X, Y], test = 'f')\n",
    "T,pvalue=homo_vars([X, Y, Z], plot=True, labels = ['X','Y','Z'], bins=15, test = 'bartlett')\n",
    "T,pvalue=homo_vars([X, Y, Z], test = 'levene')\n",
    "\n",
    "#define test statistic function\n",
    "def stat_fun(samples):\n",
    "    s = list(map(lambda x: np.var(x,ddof=1), samples))\n",
    "    return np.var(s, ddof=1)\n",
    "\n",
    "def stat_fun2(samples):\n",
    "    X = np.vstack(samples).T\n",
    "    s = X.var(ddof=1,axis=0)\n",
    "    return s.max()/s.sum()\n",
    "samples = [X, Y, Z]\n",
    "\n",
    "# permutation test\n",
    "ptest = PermTest(samples, stat_fun)\n",
    "ptest.test(size=1000)"
   ]
  },
  {
   "cell_type": "markdown",
   "metadata": {},
   "source": [
    "This example shows that levene's test and permutation test are more robust when normality is violated (I used $t$ distribution to generate the samples). While two samples are generated from the same $t$-distribution, Bartlett and F test reject the null hypothesis (because of the the violation of nomality assumption) while levene's test fail to reject the null."
   ]
  },
  {
   "cell_type": "markdown",
   "metadata": {},
   "source": [
    "### Cochran's C test\n",
    "Cochran's C test is designed to detect if there's an outlier variance, which is significantly larger than variances in other groups. \n",
    "\n",
    "The test statistic:\n",
    "\n",
    "$C = \\frac{S_{max}^2}{\\sum_{i=1}^{k} S_{i}^2}$\n",
    "\n",
    "Details can be found:https://en.wikipedia.org/wiki/Cochran's_C_test.\n",
    "\n",
    "$C_{UL}(\\alpha, n, k)=\\left[1 + \\frac{k-1}{FPPF(1-\\alpha/k,(n-1),(k-1)(n-1))} \\right]^{-1}$\n",
    "\n",
    "where $\\alpha$ is the significance level (e.g. 0.01, 0.025, 0.05, etc.), $n$ is the number of data points per group, $k$ is the number of groups.\n",
    "\n",
    "Cochran's C test was generalized to include unbalanced designs, one-sided lower limit tests and two-sided tests at any significnace level $\\alpha$ by [R.U.E. 't Lam (2010)](http://rtlam.blogspot.com), which the author names as $G$-test. Both $C$ and $G$ test assumes that the data in each group are normally distributed.\n",
    "\n",
    "I implemented this test in ```tests_util.py```."
   ]
  },
  {
   "cell_type": "code",
   "execution_count": 176,
   "metadata": {
    "collapsed": false
   },
   "outputs": [
    {
     "name": "stdout",
     "output_type": "stream",
     "text": [
      "=========  Cochran's C test  =========\n",
      "# data per group  : 50\n",
      "# of groups       : 10\n",
      "Largest variance  : 1.805648\n",
      "Sum of variances  : 10.122501\n",
      "Mean variance     : 1.012250\n",
      "Significance level: 0.050\n",
      "Test statistic    : 0.178380\n",
      "Critical value    : 0.155168\n",
      "Diagnostic: reject null\n"
     ]
    },
    {
     "data": {
      "image/png": "[encoded data removed]",
      "text/plain": [
       "<matplotlib.figure.Figure at 0x11fbdf7b8>"
      ]
     },
     "metadata": {},
     "output_type": "display_data"
    }
   ],
   "source": [
    "n = 50\n",
    "k = 10\n",
    "samples = []\n",
    "scales = stats.uniform.rvs(loc=0.8, scale=0.5, size=k)\n",
    "\n",
    "for i in range(k):\n",
    "    samples.append(stats.norm.rvs(scale=scales[i],size = n))\n",
    "\n",
    "_ =cochranC(*samples,alpha=0.05, plot=True)"
   ]
  },
  {
   "cell_type": "code",
   "execution_count": null,
   "metadata": {
    "collapsed": true
   },
   "outputs": [],
   "source": []
  }
 ],
 "metadata": {
  "anaconda-cloud": {},
  "kernelspec": {
   "display_name": "Python [Root]",
   "language": "python",
   "name": "Python [Root]"
  },
  "language_info": {
   "codemirror_mode": {
    "name": "ipython",
    "version": 3
   },
   "file_extension": ".py",
   "mimetype": "text/x-python",
   "name": "python",
   "nbconvert_exporter": "python",
   "pygments_lexer": "ipython3",
   "version": "3.5.2"
  }
 },
 "nbformat": 4,
 "nbformat_minor": 2
}
